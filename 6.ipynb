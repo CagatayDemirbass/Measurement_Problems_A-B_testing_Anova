{
 "cells": [
  {
   "cell_type": "code",
   "execution_count": 1,
   "metadata": {},
   "outputs": [
    {
     "data": {
      "text/html": [
       "<div>\n",
       "<style scoped>\n",
       "    .dataframe tbody tr th:only-of-type {\n",
       "        vertical-align: middle;\n",
       "    }\n",
       "\n",
       "    .dataframe tbody tr th {\n",
       "        vertical-align: top;\n",
       "    }\n",
       "\n",
       "    .dataframe thead th {\n",
       "        text-align: right;\n",
       "    }\n",
       "</style>\n",
       "<table border=\"1\" class=\"dataframe\">\n",
       "  <thead>\n",
       "    <tr style=\"text-align: right;\">\n",
       "      <th></th>\n",
       "      <th>total_bill</th>\n",
       "      <th>tip</th>\n",
       "      <th>sex</th>\n",
       "      <th>smoker</th>\n",
       "      <th>day</th>\n",
       "      <th>time</th>\n",
       "      <th>size</th>\n",
       "    </tr>\n",
       "  </thead>\n",
       "  <tbody>\n",
       "    <tr>\n",
       "      <th>0</th>\n",
       "      <td>16.99</td>\n",
       "      <td>1.01</td>\n",
       "      <td>Female</td>\n",
       "      <td>No</td>\n",
       "      <td>Sun</td>\n",
       "      <td>Dinner</td>\n",
       "      <td>2</td>\n",
       "    </tr>\n",
       "    <tr>\n",
       "      <th>1</th>\n",
       "      <td>10.34</td>\n",
       "      <td>1.66</td>\n",
       "      <td>Male</td>\n",
       "      <td>No</td>\n",
       "      <td>Sun</td>\n",
       "      <td>Dinner</td>\n",
       "      <td>3</td>\n",
       "    </tr>\n",
       "    <tr>\n",
       "      <th>2</th>\n",
       "      <td>21.01</td>\n",
       "      <td>3.50</td>\n",
       "      <td>Male</td>\n",
       "      <td>No</td>\n",
       "      <td>Sun</td>\n",
       "      <td>Dinner</td>\n",
       "      <td>3</td>\n",
       "    </tr>\n",
       "    <tr>\n",
       "      <th>3</th>\n",
       "      <td>23.68</td>\n",
       "      <td>3.31</td>\n",
       "      <td>Male</td>\n",
       "      <td>No</td>\n",
       "      <td>Sun</td>\n",
       "      <td>Dinner</td>\n",
       "      <td>2</td>\n",
       "    </tr>\n",
       "    <tr>\n",
       "      <th>4</th>\n",
       "      <td>24.59</td>\n",
       "      <td>3.61</td>\n",
       "      <td>Female</td>\n",
       "      <td>No</td>\n",
       "      <td>Sun</td>\n",
       "      <td>Dinner</td>\n",
       "      <td>4</td>\n",
       "    </tr>\n",
       "  </tbody>\n",
       "</table>\n",
       "</div>"
      ],
      "text/plain": [
       "   total_bill   tip     sex smoker  day    time  size\n",
       "0       16.99  1.01  Female     No  Sun  Dinner     2\n",
       "1       10.34  1.66    Male     No  Sun  Dinner     3\n",
       "2       21.01  3.50    Male     No  Sun  Dinner     3\n",
       "3       23.68  3.31    Male     No  Sun  Dinner     2\n",
       "4       24.59  3.61  Female     No  Sun  Dinner     4"
      ]
     },
     "execution_count": 1,
     "metadata": {},
     "output_type": "execute_result"
    }
   ],
   "source": [
    "import itertools\n",
    "import numpy as np\n",
    "import pandas as pd\n",
    "import matplotlib.pyplot as plt\n",
    "import seaborn as sns\n",
    "import statsmodels.stats.api as sms\n",
    "from scipy.stats import ttest_1samp, shapiro, levene, ttest_ind, mannwhitneyu, \\\n",
    "    pearsonr, spearmanr, kendalltau, f_oneway, kruskal\n",
    "from statsmodels.stats.proportion import proportions_ztest\n",
    "df = sns.load_dataset(\"tips\")\n",
    "df.head()"
   ]
  },
  {
   "cell_type": "code",
   "execution_count": 2,
   "metadata": {},
   "outputs": [
    {
     "data": {
      "text/plain": [
       "day\n",
       "Thur    17.682742\n",
       "Fri     17.151579\n",
       "Sat     20.441379\n",
       "Sun     21.410000\n",
       "Name: total_bill, dtype: float64"
      ]
     },
     "execution_count": 2,
     "metadata": {},
     "output_type": "execute_result"
    }
   ],
   "source": [
    "df.groupby(\"day\")[\"total_bill\"].mean()"
   ]
  },
  {
   "cell_type": "code",
   "execution_count": 3,
   "metadata": {},
   "outputs": [],
   "source": [
    "# h0 => m0=m1=m2\n",
    "# normallik varsayımı kontrolü, varyans homojenliği"
   ]
  },
  {
   "cell_type": "code",
   "execution_count": 4,
   "metadata": {},
   "outputs": [
    {
     "name": "stdout",
     "output_type": "stream",
     "text": [
      "Sun 0.0036\n",
      "Sat 0.0000\n",
      "Thur 0.0000\n",
      "Fri 0.0409\n"
     ]
    }
   ],
   "source": [
    "for day in list(df[\"day\"].unique()):\n",
    "    test_stat, pvalue = shapiro(df.loc[df[\"day\"]==day, \"total_bill\"])\n",
    "    print(day,f\"{pvalue:.4f}\")\n",
    "    \n",
    "# p < 0.05 h0 red normal dağılım değil"
   ]
  },
  {
   "cell_type": "code",
   "execution_count": 5,
   "metadata": {},
   "outputs": [
    {
     "name": "stdout",
     "output_type": "stream",
     "text": [
      "Sun 0.0036\n",
      "Sat 0.0000\n",
      "Thur 0.0000\n",
      "Fri 0.0409\n"
     ]
    }
   ],
   "source": [
    "for day in list(df[\"day\"].unique()):\n",
    "    pvalue = shapiro(df.loc[df[\"day\"]==day, \"total_bill\"])[1]\n",
    "    print(day,f\"{pvalue:.4f}\")\n",
    "    \n",
    "# p < 0.05 h0 red normal dağılım değil"
   ]
  },
  {
   "cell_type": "code",
   "execution_count": 6,
   "metadata": {},
   "outputs": [
    {
     "name": "stdout",
     "output_type": "stream",
     "text": [
      "p value 0.5741\n"
     ]
    }
   ],
   "source": [
    "test_stat,pvalue = levene(df.loc[df[\"day\"]==\"Sun\",\"total_bill\"],\n",
    "                          df.loc[df[\"day\"]==\"Sat\",\"total_bill\"],\n",
    "                          df.loc[df[\"day\"]==\"Thur\",\"total_bill\"],\n",
    "                          df.loc[df[\"day\"]==\"Fri\",\"total_bill\"])\n",
    "print(f\"p value {pvalue:.4f}\")\n",
    "\n",
    "# p > 0.05 h0 reddedilemez, dağılım homojendir h0 var yani"
   ]
  },
  {
   "cell_type": "code",
   "execution_count": 7,
   "metadata": {},
   "outputs": [
    {
     "data": {
      "text/html": [
       "<div>\n",
       "<style scoped>\n",
       "    .dataframe tbody tr th:only-of-type {\n",
       "        vertical-align: middle;\n",
       "    }\n",
       "\n",
       "    .dataframe tbody tr th {\n",
       "        vertical-align: top;\n",
       "    }\n",
       "\n",
       "    .dataframe thead tr th {\n",
       "        text-align: left;\n",
       "    }\n",
       "\n",
       "    .dataframe thead tr:last-of-type th {\n",
       "        text-align: right;\n",
       "    }\n",
       "</style>\n",
       "<table border=\"1\" class=\"dataframe\">\n",
       "  <thead>\n",
       "    <tr>\n",
       "      <th></th>\n",
       "      <th colspan=\"2\" halign=\"left\">total_bill</th>\n",
       "    </tr>\n",
       "    <tr>\n",
       "      <th></th>\n",
       "      <th>mean</th>\n",
       "      <th>median</th>\n",
       "    </tr>\n",
       "    <tr>\n",
       "      <th>day</th>\n",
       "      <th></th>\n",
       "      <th></th>\n",
       "    </tr>\n",
       "  </thead>\n",
       "  <tbody>\n",
       "    <tr>\n",
       "      <th>Thur</th>\n",
       "      <td>17.682742</td>\n",
       "      <td>16.20</td>\n",
       "    </tr>\n",
       "    <tr>\n",
       "      <th>Fri</th>\n",
       "      <td>17.151579</td>\n",
       "      <td>15.38</td>\n",
       "    </tr>\n",
       "    <tr>\n",
       "      <th>Sat</th>\n",
       "      <td>20.441379</td>\n",
       "      <td>18.24</td>\n",
       "    </tr>\n",
       "    <tr>\n",
       "      <th>Sun</th>\n",
       "      <td>21.410000</td>\n",
       "      <td>19.63</td>\n",
       "    </tr>\n",
       "  </tbody>\n",
       "</table>\n",
       "</div>"
      ],
      "text/plain": [
       "     total_bill       \n",
       "           mean median\n",
       "day                   \n",
       "Thur  17.682742  16.20\n",
       "Fri   17.151579  15.38\n",
       "Sat   20.441379  18.24\n",
       "Sun   21.410000  19.63"
      ]
     },
     "execution_count": 7,
     "metadata": {},
     "output_type": "execute_result"
    }
   ],
   "source": [
    "df.groupby(\"day\").agg({\"total_bill\":[\"mean\",\"median\"]})"
   ]
  },
  {
   "cell_type": "code",
   "execution_count": 8,
   "metadata": {},
   "outputs": [
    {
     "data": {
      "text/plain": [
       "F_onewayResult(statistic=2.7674794432863363, pvalue=0.04245383328951916)"
      ]
     },
     "execution_count": 8,
     "metadata": {},
     "output_type": "execute_result"
    }
   ],
   "source": [
    "#parametrik anova\n",
    "f_oneway(df.loc[df[\"day\"]==\"Thur\",\"total_bill\"],\n",
    "         df.loc[df[\"day\"]==\"Fri\",\"total_bill\"],\n",
    "         df.loc[df[\"day\"]==\"Sat\",\"total_bill\"],\n",
    "         df.loc[df[\"day\"]==\"Sun\",\"total_bill\"])"
   ]
  },
  {
   "cell_type": "code",
   "execution_count": 9,
   "metadata": {},
   "outputs": [
    {
     "data": {
      "text/plain": [
       "KruskalResult(statistic=10.403076391437086, pvalue=0.015433008201041274)"
      ]
     },
     "execution_count": 9,
     "metadata": {},
     "output_type": "execute_result"
    }
   ],
   "source": [
    "# non-parametrik\n",
    "kruskal(df.loc[df[\"day\"]==\"Thur\",\"total_bill\"],\n",
    "         df.loc[df[\"day\"]==\"Fri\",\"total_bill\"],\n",
    "         df.loc[df[\"day\"]==\"Sat\",\"total_bill\"],\n",
    "         df.loc[df[\"day\"]==\"Sun\",\"total_bill\"])\n",
    "# p < 0.05 h0 red aralarında istatistiksel olarak fark var"
   ]
  },
  {
   "cell_type": "code",
   "execution_count": 10,
   "metadata": {},
   "outputs": [
    {
     "data": {
      "text/html": [
       "<table class=\"simpletable\">\n",
       "<caption>Multiple Comparison of Means - Tukey HSD, FWER=0.05</caption>\n",
       "<tr>\n",
       "  <th>group1</th> <th>group2</th> <th>meandiff</th>  <th>p-adj</th>  <th>lower</th>   <th>upper</th>  <th>reject</th>\n",
       "</tr>\n",
       "<tr>\n",
       "    <td>Fri</td>    <td>Sat</td>   <td>3.2898</td>  <td>0.4541</td> <td>-2.4799</td> <td>9.0595</td>   <td>False</td>\n",
       "</tr>\n",
       "<tr>\n",
       "    <td>Fri</td>    <td>Sun</td>   <td>4.2584</td>  <td>0.2371</td> <td>-1.5856</td> <td>10.1025</td>  <td>False</td>\n",
       "</tr>\n",
       "<tr>\n",
       "    <td>Fri</td>   <td>Thur</td>   <td>0.5312</td>  <td>0.9957</td> <td>-5.4434</td> <td>6.5057</td>   <td>False</td>\n",
       "</tr>\n",
       "<tr>\n",
       "    <td>Sat</td>    <td>Sun</td>   <td>0.9686</td>  <td>0.8968</td> <td>-2.6088</td>  <td>4.546</td>   <td>False</td>\n",
       "</tr>\n",
       "<tr>\n",
       "    <td>Sat</td>   <td>Thur</td>   <td>-2.7586</td> <td>0.2374</td> <td>-6.5455</td> <td>1.0282</td>   <td>False</td>\n",
       "</tr>\n",
       "<tr>\n",
       "    <td>Sun</td>   <td>Thur</td>   <td>-3.7273</td> <td>0.0668</td> <td>-7.6264</td> <td>0.1719</td>   <td>False</td>\n",
       "</tr>\n",
       "</table>"
      ],
      "text/plain": [
       "<class 'statsmodels.iolib.table.SimpleTable'>"
      ]
     },
     "execution_count": 10,
     "metadata": {},
     "output_type": "execute_result"
    }
   ],
   "source": [
    "from statsmodels.stats.multicomp import MultiComparison,pairwise_tukeyhsd\n",
    "comparison = MultiComparison(df[\"total_bill\"],df[\"day\"])\n",
    "tukey = comparison.tukeyhsd(0.05)\n",
    "tukey.summary()"
   ]
  },
  {
   "cell_type": "code",
   "execution_count": 11,
   "metadata": {},
   "outputs": [
    {
     "data": {
      "text/html": [
       "<table class=\"simpletable\">\n",
       "<caption>Multiple Comparison of Means - Tukey HSD, FWER=0.05</caption>\n",
       "<tr>\n",
       "  <th>group1</th> <th>group2</th> <th>meandiff</th>  <th>p-adj</th>  <th>lower</th>   <th>upper</th>  <th>reject</th>\n",
       "</tr>\n",
       "<tr>\n",
       "    <td>Fri</td>    <td>Sat</td>   <td>3.2898</td>  <td>0.4541</td> <td>-2.4799</td> <td>9.0595</td>   <td>False</td>\n",
       "</tr>\n",
       "<tr>\n",
       "    <td>Fri</td>    <td>Sun</td>   <td>4.2584</td>  <td>0.2371</td> <td>-1.5856</td> <td>10.1025</td>  <td>False</td>\n",
       "</tr>\n",
       "<tr>\n",
       "    <td>Fri</td>   <td>Thur</td>   <td>0.5312</td>  <td>0.9957</td> <td>-5.4434</td> <td>6.5057</td>   <td>False</td>\n",
       "</tr>\n",
       "<tr>\n",
       "    <td>Sat</td>    <td>Sun</td>   <td>0.9686</td>  <td>0.8968</td> <td>-2.6088</td>  <td>4.546</td>   <td>False</td>\n",
       "</tr>\n",
       "<tr>\n",
       "    <td>Sat</td>   <td>Thur</td>   <td>-2.7586</td> <td>0.2374</td> <td>-6.5455</td> <td>1.0282</td>   <td>False</td>\n",
       "</tr>\n",
       "<tr>\n",
       "    <td>Sun</td>   <td>Thur</td>   <td>-3.7273</td> <td>0.0668</td> <td>-7.6264</td> <td>0.1719</td>   <td>False</td>\n",
       "</tr>\n",
       "</table>"
      ],
      "text/plain": [
       "<class 'statsmodels.iolib.table.SimpleTable'>"
      ]
     },
     "execution_count": 11,
     "metadata": {},
     "output_type": "execute_result"
    }
   ],
   "source": [
    "from statsmodels.stats.multicomp import MultiComparison,pairwise_tukeyhsd\n",
    "tukey = pairwise_tukeyhsd(df[\"total_bill\"],df[\"day\"])\n",
    "tukey.summary()"
   ]
  },
  {
   "cell_type": "code",
   "execution_count": 12,
   "metadata": {},
   "outputs": [
    {
     "name": "stdout",
     "output_type": "stream",
     "text": [
      "test stat 3007.0000, pvalue 0.0054\n"
     ]
    }
   ],
   "source": [
    "test_stat,  pvalue = mannwhitneyu(df.loc[df[\"day\"]==\"Sun\",\"total_bill\"],\n",
    "                                  df.loc[df[\"day\"]==\"Thur\",\"total_bill\"])\n",
    "print(f\"test stat {test_stat:.4f}, pvalue {pvalue:.4f}\")"
   ]
  },
  {
   "cell_type": "code",
   "execution_count": 13,
   "metadata": {},
   "outputs": [
    {
     "name": "stdout",
     "output_type": "stream",
     "text": [
      "test stat 3213.5000, pvalue 0.0469\n"
     ]
    }
   ],
   "source": [
    "test_stat,  pvalue = mannwhitneyu(df.loc[df[\"day\"]==\"Sat\",\"total_bill\"],\n",
    "                                  df.loc[df[\"day\"]==\"Thur\",\"total_bill\"])\n",
    "print(f\"test stat {test_stat:.4f}, pvalue {pvalue:.4f}\")"
   ]
  },
  {
   "cell_type": "code",
   "execution_count": null,
   "metadata": {},
   "outputs": [],
   "source": []
  }
 ],
 "metadata": {
  "kernelspec": {
   "display_name": "Python 3",
   "language": "python",
   "name": "python3"
  },
  "language_info": {
   "codemirror_mode": {
    "name": "ipython",
    "version": 3
   },
   "file_extension": ".py",
   "mimetype": "text/x-python",
   "name": "python",
   "nbconvert_exporter": "python",
   "pygments_lexer": "ipython3",
   "version": "3.10.8"
  },
  "orig_nbformat": 4
 },
 "nbformat": 4,
 "nbformat_minor": 2
}
